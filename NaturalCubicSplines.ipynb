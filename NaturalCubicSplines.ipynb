{
 "cells": [
  {
   "cell_type": "markdown",
   "metadata": {},
   "source": [
    "# Convolutional Cubic Splines\n",
    "\n",
    "$C^2$-continuous cubic splines through evenly spaced data points can be created by convolving the data points with a $C^2$-continuous piecewise cubic kernel, characterized as follows:\n",
    "\n",
    "\\begin{split}\n",
    " y(0) &= 1\\\\\n",
    " y(x) &= 0,\\text{ for all integer }x \\neq 0\\\\\n",
    " y'(x) &= sgn(x) * 3(\\sqrt3-2)^{|x|},\\text{ for all integer }x\\\\\n",
    "\\end{split}\n",
    "which implies\n",
    "\n",
    " $$y''(x) = -6\\sqrt 3(\\sqrt3-2)^{|x|},\\text{ for all integer }x \\neq 0$$\n",
    "\n",
    "The double-sided exponential allows the convolution to be performed extremely efficiently.\n",
    "\n",
    "Any of the standard boundary conditions can then be applied by adjusting the start and end derivatives appropritately, and propagating the change to the rest of the curve.\n",
    "\n",
    "The following function calculates \"natural\" cubic splines (with $y'' = 0$ at start and end) using this technique, which is much easiser than the way everyone is taught!\n",
    "\n",
    "Use it however you like.\n",
    "\n",
    "Cheers,\n",
    "\n",
    "Matt Timmermans"
   ]
  },
  {
   "cell_type": "code",
   "execution_count": 1,
   "metadata": {
    "collapsed": false
   },
   "outputs": [],
   "source": [
    "import math\n",
    "#given an array of Y values at consecutive integral x abscissas,\n",
    "#return array of corresponding derivatives to make a natural cubic spline\n",
    "def naturalSpline(ys):\n",
    "    vs = [0.0] * len(ys)\n",
    "    if (len(ys) < 2):\n",
    "        return vs\n",
    "    \n",
    "    DECAY = math.sqrt(3)-2;\n",
    "    endi = len(ys)-1\n",
    "\n",
    "    # make convolutional spline\n",
    "    S = 0.0;E = 0.0\n",
    "    for i in range(len(Y)):\n",
    "        vs[i]+=S;vs[endi-i]+=E;\n",
    "        S=(S+3.0*ys[i])*DECAY;\n",
    "        E=(E-3.0*ys[endi-i])*DECAY;\n",
    "\n",
    "    #Natural Boundaries\n",
    "    S2 = 6.0*(ys[1]-ys[0]) - 4.0*vs[0] - 2.0*vs[1]\n",
    "    E2 = 6.0*(ys[endi-1]-ys[endi]) + 4.0*vs[endi] + 2.0*vs[endi-1]\n",
    "    # A = dE2/dE = -dS2/dS,  B = dE2/dS = -dS2/dS\n",
    "    A = 4.0+2.0*DECAY\n",
    "    B = (4.0*DECAY+2.0)*(DECAY**(len(ys)-2))\n",
    "    DEN = A*A - B*B\n",
    "    S = (A*S2 + B*E2) / DEN\n",
    "    E = (-A*E2 - B*S2) / DEN\n",
    "    for i in range(len(ys)):\n",
    "        vs[i]+=S;vs[endi-i]+=E\n",
    "        S*=DECAY;E*=DECAY\n",
    "    return vs"
   ]
  },
  {
   "cell_type": "code",
   "execution_count": 2,
   "metadata": {
    "collapsed": false
   },
   "outputs": [
    {
     "data": {
      "text/plain": [
       "[<matplotlib.lines.Line2D at 0x2d2818516d8>]"
      ]
     },
     "execution_count": 2,
     "metadata": {},
     "output_type": "execute_result"
    },
    {
     "data": {
      "image/png": "[encoded data removed]",
      "text/plain": [
       "<matplotlib.figure.Figure at 0x2d28003fdd8>"
      ]
     },
     "metadata": {},
     "output_type": "display_data"
    },
    {
     "data": {
      "image/png": "[encoded data removed]",
      "text/plain": [
       "<matplotlib.figure.Figure at 0x2d281963cf8>"
      ]
     },
     "metadata": {},
     "output_type": "display_data"
    }
   ],
   "source": [
    "#\n",
    "#Plot a different natural spline, along with its 1st and 2nd derivatives, each time you run this\n",
    "#\n",
    "%run plothelp.py\n",
    "%matplotlib inline\n",
    "import random\n",
    "import numpy\n",
    "Y = [random.random()*10.0+2 for _ in range(5)]\n",
    "V = naturalSpline(Y)\n",
    "xs = numpy.linspace(0,len(Y)-1, 1000)\n",
    "plt.figure(0)\n",
    "plt.plot(xs,[hermite_interp(Y,V,x) for x in xs])\n",
    "plt.plot(range(0,len(Y)),[Y[x] for x in range(0,len(Y))], \"bo\")\n",
    "plt.figure(1)\n",
    "plt.plot(xs,[hermite_interp1(Y,V,x) for x in xs])\n",
    "plt.plot(xs,[hermite_interp2(Y,V,x) for x in xs])\n"
   ]
  },
  {
   "cell_type": "markdown",
   "metadata": {},
   "source": [
    "## The Kernel\n",
    "\n",
    "The kernel decays quickly around $x=0$, which is why cubic splines suffer from very little \"ringing\" -- moving one point doesn't significantly affect the curve at points far away."
   ]
  },
  {
   "cell_type": "code",
   "execution_count": 3,
   "metadata": {
    "collapsed": false
   },
   "outputs": [
    {
     "data": {
      "text/plain": [
       "[<matplotlib.lines.Line2D at 0x2d281e05e10>]"
      ]
     },
     "execution_count": 3,
     "metadata": {},
     "output_type": "execute_result"
    },
    {
     "data": {
      "image/png": "[encoded data removed]",
      "text/plain": [
       "<matplotlib.figure.Figure at 0x2d281a6e1d0>"
      ]
     },
     "metadata": {},
     "output_type": "display_data"
    }
   ],
   "source": [
    "#\n",
    "# Plot the kernel\n",
    "#\n",
    "DECAY = math.sqrt(3)-2;\n",
    "vs = [3*(DECAY**x) for x in range(1,6)]\n",
    "ys = [0]*len(vs) + [1] + [0]*len(vs)\n",
    "vs = [-v for v in vs[::-1]] + [0.0] + vs\n",
    "xs = numpy.linspace(0,len(ys)-1, 1000)\n",
    "plt.figure(0)\n",
    "plt.plot([x-5 for x in xs],[hermite_interp(ys,vs,x) for x in xs])"
   ]
  },
  {
   "cell_type": "markdown",
   "metadata": {},
   "source": [
    "## Derivation\n",
    "\n",
    "Each segment of the curve is a cubic polynomial, which has 4 unknowns: $Y = Ax^3 + Bx^2 + C +D$.\n",
    "\n",
    "The kernel consists of two *main lobe* segments (for $\\text{x in }[-1,0]$ and $\\text{x in }[0,1]$), and many *side lobe* segments.\n",
    "\n",
    "For each side lobe, the end points are set:\n",
    "\n",
    "\\begin{split}\n",
    " y_0 &= 0\\\\\n",
    " y_1 &= 0\n",
    "\\end{split}\n",
    "\n",
    "There are only 2 unknowns left, so specifying the first and second derivatives at one end will fix the first and second derivatives at the other end as well.  There is a linear relationship:\n",
    "\n",
    "$$\n",
    "\\begin{bmatrix}\n",
    "    y'_1 \\\\\n",
    "    y''_1\n",
    "\\end{bmatrix}\n",
    "=\n",
    "\\begin{bmatrix}\n",
    "    -2 & -\\frac{1}{2} \\\\\n",
    "    -6 & -2\n",
    "\\end{bmatrix}\n",
    "\\begin{bmatrix}\n",
    "    y'_0 \\\\\n",
    "    y''_0\n",
    "\\end{bmatrix}\n",
    "$$\n",
    "If $(y'_0,y''_0)$ is an eigenvector of this matrix, then $(y'_1,y''_1)$ will be as well, implying the same for $(y'_2,y''_2)$, etc.  All of the adjacent sidelobes will have the same shape with different amplitudes.\n",
    "\n",
    "The two eigenvectors correspond to exponentially increasing or decreasing sidelobe amplitudes, respectively:\n",
    "\n",
    "\\begin{split}\n",
    "\\begin{bmatrix}\n",
    "    -2 & -\\frac{1}{2} \\\\\n",
    "    -6 & -2\n",
    "\\end{bmatrix}\n",
    "\\begin{bmatrix}\n",
    "    1 \\\\\n",
    "    2\\sqrt{3}\n",
    "\\end{bmatrix}\n",
    "&=\n",
    "\\frac{1}{\\sqrt{3}-2}\n",
    "\\begin{bmatrix}\n",
    "    1 \\\\\n",
    "    2\\sqrt{3}\n",
    "\\end{bmatrix}\n",
    "\\\\\n",
    "\\begin{bmatrix}\n",
    "    -2 & -\\frac{1}{2} \\\\\n",
    "    -6 & -2\n",
    "\\end{bmatrix}\n",
    "\\begin{bmatrix}\n",
    "    1 \\\\\n",
    "    -2\\sqrt{3}\n",
    "\\end{bmatrix}\n",
    "&=\n",
    "\\left(\\sqrt{3}-2\\right)\n",
    "\\begin{bmatrix}\n",
    "    1 \\\\\n",
    "    -2\\sqrt{3}\n",
    "\\end{bmatrix}\n",
    "\\end{split}\n",
    "\n",
    "To create the kernel, then, we just calculate the main lobes to meet the side lobes with first and second derivaties along these eigenvectors.  The $C^2$-continuity requirement then forces exponentially decaying sidelobes on both sides:\n",
    "\n",
    "\\begin{gather}\n",
    "y(0)=1\\\\\n",
    "y'(0) = 0\n",
    "\\\\\n",
    "y(-1) = y(1) = 0\n",
    "\\\\\n",
    "\\frac{y''(-1)}{y'(-1)} = -\\frac{y''(1)}{y'(1)} = 2\\sqrt{3}\n",
    "\\end{gather}\n"
   ]
  }
 ],
 "metadata": {
  "kernelspec": {
   "display_name": "Python 3",
   "language": "python",
   "name": "python3"
  },
  "language_info": {
   "codemirror_mode": {
    "name": "ipython",
    "version": 3
   },
   "file_extension": ".py",
   "mimetype": "text/x-python",
   "name": "python",
   "nbconvert_exporter": "python",
   "pygments_lexer": "ipython3",
   "version": "3.5.1"
  }
 },
 "nbformat": 4,
 "nbformat_minor": 0
}
