{
 "cells": [
  {
   "cell_type": "markdown",
   "metadata": {},
   "source": [
    "# Natural Cubic Splines\n",
    "\n",
    "The following function generates C2-continuous cubic splines by convolving the data points with a C2-continuous piecewise cubic kernel, characterized as follows:\n",
    "\n",
    "\\begin{split}\n",
    " y(0) &= 1\\\\\n",
    " y(x) &= 0,\\text{ for all integer }x \\neq 0\\\\\n",
    " y'(x) &= sgn(x) * 3(\\sqrt3-2)^{|x|},\\text{ for all integer }x\\\\\n",
    "\\end{split}\n",
    "which implies\n",
    "\n",
    " $$y''(x) = -6\\sqrt 3(\\sqrt3-2)^{|x|},\\text{ for all integer }x \\neq 0$$\n",
    "\n",
    "Adjustments for the initial and final derivatives are then calculated to satisfy the \"natural\" boundary conditions ( $y'' = 0\\text{ at start and end}$ ), and propagated to the rest of the curve.\n",
    "\n",
    "I don't know whether this algorithm is novel or not, but it's certainly easier than doing it the way everyone is taught!\n",
    "\n",
    "Use it however you like.\n",
    "\n",
    "Cheers,\n",
    "\n",
    "Matt Timmermans"
   ]
  },
  {
   "cell_type": "code",
   "execution_count": 1,
   "metadata": {
    "collapsed": false
   },
   "outputs": [],
   "source": [
    "import math\n",
    "#given an array of Y values at consecutive integral x abscissas,\n",
    "#return array of corresponding derivatives to make a natural cubic spline\n",
    "def naturalSpline(ys):\n",
    "    vs = [0.0] * len(ys)\n",
    "    if (len(ys) < 2):\n",
    "        return vs\n",
    "    \n",
    "    DECAY = math.sqrt(3)-2;\n",
    "    endi = len(ys)-1\n",
    "\n",
    "    # make convolutional spline\n",
    "    S = 0.0;E = 0.0\n",
    "    for i in range(len(Y)):\n",
    "        vs[i]+=S;vs[endi-i]+=E;\n",
    "        S=(S+3.0*ys[i])*DECAY;\n",
    "        E=(E-3.0*ys[endi-i])*DECAY;\n",
    "\n",
    "    #Natural Boundaries\n",
    "    S2 = 6.0*(ys[1]-ys[0]) - 4.0*vs[0] - 2.0*vs[1]\n",
    "    E2 = 6.0*(ys[endi-1]-ys[endi]) + 4.0*vs[endi] + 2.0*vs[endi-1]\n",
    "    # A = dE2/dE = -dS2/dS,  B = dE2/dS = -dS2/dS\n",
    "    A = 4.0+2.0*DECAY\n",
    "    B = (4.0*DECAY+2.0)*(DECAY**(len(ys)-2))\n",
    "    DEN = A*A - B*B\n",
    "    S = (A*S2 + B*E2) / DEN\n",
    "    E = (-A*E2 - B*S2) / DEN\n",
    "    for i in range(len(ys)):\n",
    "        vs[i]+=S;vs[endi-i]+=E\n",
    "        S*=DECAY;E*=DECAY\n",
    "    return vs"
   ]
  },
  {
   "cell_type": "code",
   "execution_count": 2,
   "metadata": {
    "collapsed": false
   },
   "outputs": [],
   "source": [
    "#Stuff we need to plot the interpolation\n",
    "import matplotlib\n",
    "import matplotlib.pyplot as plt\n",
    "import numpy\n",
    "%matplotlib inline\n",
    "def hermite_interp(dar,var,i):\n",
    "    n = math.floor(i)\n",
    "    if n>=len(dar)-1:\n",
    "        n=len(dar)-2\n",
    "    t = i-n\n",
    "\n",
    "    # Hermite basis functions\n",
    "    h00 = (2.0 * t**3) - (3.0 * t**2) + 1.0\n",
    "    h10 = t**3.0  - (2.0 * t**2) + t\n",
    "    h01 = (-2.0* t**3) + (3.0 * t**2)\n",
    "    h11 = t**3 - t**2\n",
    "    # Compute the interpolated value of \"y\"\n",
    "    return h00*dar[n] + h10*var[n] + h01*dar[n+1] + h11*var[n+1]\n",
    "\n",
    "# first derivative of hermite spline\n",
    "def hermite_interp1(dar,var,i):\n",
    "    n = math.floor(i)\n",
    "    if n>=len(dar)-1:\n",
    "        n=len(dar)-2\n",
    "    t = i-n\n",
    "\n",
    "    h00 = (6.0 * t**2) - (6.0 * t)\n",
    "    h10 = 3.0*t**2  - (4.0 * t) + 1\n",
    "    h01 = (-6.0* t**2) + (6.0 * t)\n",
    "    h11 = 3.0*t**2 - 2.0*t\n",
    "    return h00*dar[n] + h10*var[n] + h01*dar[n+1] + h11*var[n+1]\n",
    "\n",
    "#second derivative of hermite spline\n",
    "def hermite_interp2(dar,var,i):\n",
    "    n = math.floor(i)\n",
    "    if n>=len(dar)-1:\n",
    "        n=len(dar)-2\n",
    "    t = i-n\n",
    "\n",
    "    # Hermite basis functions\n",
    "    h00 = (12.0 * t) - 6.0\n",
    "    h10 = 6.0*t  - 4.0\n",
    "    h01 = (-12.0* t) + 6.0\n",
    "    h11 = 6.0*t - 2.0\n",
    "    # Compute the interpolated value of \"y\"\n",
    "    return h00*dar[n] + h10*var[n] + h01*dar[n+1] + h11*var[n+1]"
   ]
  },
  {
   "cell_type": "code",
   "execution_count": 3,
   "metadata": {
    "collapsed": false
   },
   "outputs": [
    {
     "data": {
      "text/plain": [
       "[<matplotlib.lines.Line2D at 0x1ef3fc3d748>]"
      ]
     },
     "execution_count": 3,
     "metadata": {},
     "output_type": "execute_result"
    },
    {
     "data": {
      "image/png": "[encoded data removed]",
      "text/plain": [
       "<matplotlib.figure.Figure at 0x1ef3fb542b0>"
      ]
     },
     "metadata": {},
     "output_type": "display_data"
    },
    {
     "data": {
      "image/png": "[encoded data removed]",
      "text/plain": [
       "<matplotlib.figure.Figure at 0x1ef3fc26d68>"
      ]
     },
     "metadata": {},
     "output_type": "display_data"
    }
   ],
   "source": [
    "#Plot a different natural spline, along with its 1st and 2nd derivatives, each time you run this\n",
    "import random\n",
    "Y = [random.random()*10.0+2 for _ in range(5)]\n",
    "V = naturalSpline(Y)\n",
    "xs = [x for x in numpy.arange(0,len(Y)-0.99,0.1)]\n",
    "plt.figure(0)\n",
    "plt.plot(xs,[hermite_interp(Y,V,x) for x in xs])\n",
    "plt.plot(range(0,len(Y)),[Y[x] for x in range(0,len(Y))], \"bo\")\n",
    "plt.figure(1)\n",
    "plt.plot(xs,[hermite_interp1(Y,V,x) for x in xs])\n",
    "plt.plot(xs,[hermite_interp2(Y,V,x) for x in xs])\n"
   ]
  },
  {
   "cell_type": "code",
   "execution_count": null,
   "metadata": {
    "collapsed": true
   },
   "outputs": [],
   "source": []
  }
 ],
 "metadata": {
  "kernelspec": {
   "display_name": "Python 3",
   "language": "python",
   "name": "python3"
  },
  "language_info": {
   "codemirror_mode": {
    "name": "ipython",
    "version": 3
   },
   "file_extension": ".py",
   "mimetype": "text/x-python",
   "name": "python",
   "nbconvert_exporter": "python",
   "pygments_lexer": "ipython3",
   "version": "3.5.1"
  }
 },
 "nbformat": 4,
 "nbformat_minor": 0
}
